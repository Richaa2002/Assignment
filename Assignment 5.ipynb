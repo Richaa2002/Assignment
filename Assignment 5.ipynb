{
 "cells": [
  {
   "cell_type": "code",
   "execution_count": 1,
   "id": "4843f53d-db33-4408-a914-ab2f31c63210",
   "metadata": {},
   "outputs": [],
   "source": [
    "# Q1. Create a vehicle class with an init method having instance variables as name_of_vehicle, max_speed\n",
    "# and average_of_vehicle."
   ]
  },
  {
   "cell_type": "code",
   "execution_count": 2,
   "id": "4a3bd5b6-8648-4dd8-a29f-ce8bcec31b49",
   "metadata": {},
   "outputs": [],
   "source": [
    "class vehicle:\n",
    "    def __init__(self,name_of_vehicle,max_speed,average_of_vehicle):\n",
    "        self.name_of_vehicle = name_of_vehicle\n",
    "        self.max_speed=max_speed\n",
    "        self.average_of_vehicle=average_of_vehicle\n",
    "        "
   ]
  },
  {
   "cell_type": "code",
   "execution_count": 3,
   "id": "ae660533-dd09-4f31-80ce-2418b94c4669",
   "metadata": {},
   "outputs": [],
   "source": [
    " car = vehicle(\"car\",200,40)"
   ]
  },
  {
   "cell_type": "code",
   "execution_count": 4,
   "id": "c9323adc-3d16-45f9-9562-684a24ddc47f",
   "metadata": {},
   "outputs": [
    {
     "name": "stdout",
     "output_type": "stream",
     "text": [
      "Name: car\n"
     ]
    }
   ],
   "source": [
    "print(\"Name:\",car.name_of_vehicle)"
   ]
  },
  {
   "cell_type": "code",
   "execution_count": 5,
   "id": "63e63947-3c95-4902-abf2-9c0892a92787",
   "metadata": {},
   "outputs": [
    {
     "name": "stdout",
     "output_type": "stream",
     "text": [
      "Max Speed: 200\n"
     ]
    }
   ],
   "source": [
    "print(\"Max Speed:\",car.max_speed)"
   ]
  },
  {
   "cell_type": "code",
   "execution_count": 6,
   "id": "b81fd06e-0030-40fd-80ed-dcb5736ee649",
   "metadata": {},
   "outputs": [
    {
     "name": "stdout",
     "output_type": "stream",
     "text": [
      "Average Speed: 40\n"
     ]
    }
   ],
   "source": [
    "print(\"Average Speed:\",car.average_of_vehicle)"
   ]
  },
  {
   "cell_type": "code",
   "execution_count": 7,
   "id": "34cfbfc4-c369-4dd0-8593-bf43cca428e2",
   "metadata": {},
   "outputs": [],
   "source": [
    "# Q2. Create a child class car from the vehicle class created in Que 1, which will inherit the vehicle class.\n",
    "# Create a method named seating_capacity which takes capacity as an argument and returns the name of\n",
    "# the vehicle and its seating capacity."
   ]
  },
  {
   "cell_type": "code",
   "execution_count": 8,
   "id": "7296d334-0bf3-4513-824c-06c81c3748b1",
   "metadata": {},
   "outputs": [],
   "source": [
    "class Car(vehicle):\n",
    "    def seating_capacity(self, capacity):\n",
    "        return f\"The {self.name_of_vehicle} has a seating capacity of {capacity}.\""
   ]
  },
  {
   "cell_type": "code",
   "execution_count": 9,
   "id": "0d595a27-0802-4d33-9482-c9234b6e5751",
   "metadata": {},
   "outputs": [],
   "source": [
    "car1 = Car(\"toyota camry\", 180 , 25)"
   ]
  },
  {
   "cell_type": "code",
   "execution_count": 10,
   "id": "11d6f9c9-8a2b-4319-ba1c-0ba02bf84aa4",
   "metadata": {},
   "outputs": [
    {
     "data": {
      "text/plain": [
       "'The toyota camry has a seating capacity of 5.'"
      ]
     },
     "execution_count": 10,
     "metadata": {},
     "output_type": "execute_result"
    }
   ],
   "source": [
    "car1.seating_capacity(5)"
   ]
  },
  {
   "cell_type": "code",
   "execution_count": 11,
   "id": "f762fbd5-56ae-49b3-a5ea-2a84dcab23b5",
   "metadata": {},
   "outputs": [],
   "source": [
    "# Q3. What is multiple inheritance? Write a python code to demonstrate multiple inheritance."
   ]
  },
  {
   "cell_type": "code",
   "execution_count": 12,
   "id": "5f431653-56a6-47d2-ab91-c7e224838482",
   "metadata": {},
   "outputs": [
    {
     "name": "stdout",
     "output_type": "stream",
     "text": [
      "Ans:- Multiple inheritance is a feature of some object-oriented programming languages in which a class can inherit attributes and methods from more than one parent class.\n"
     ]
    }
   ],
   "source": [
    "print(\"Ans:- Multiple inheritance is a feature of some object-oriented programming languages in which a class can inherit attributes and methods from more than one parent class.\")"
   ]
  },
  {
   "cell_type": "code",
   "execution_count": 13,
   "id": "e5a22783-2538-4811-9302-a0bf29d05e0d",
   "metadata": {},
   "outputs": [],
   "source": [
    "class A:\n",
    "    def method_A(self):\n",
    "        return \"Method A from class A\"\n",
    "\n",
    "class B:\n",
    "    def method_B(self):\n",
    "        return \"Method B from class B\"\n",
    "\n",
    "class C(A, B):\n",
    "    def method_C(self):\n",
    "        return \"Method C from class C\"\n"
   ]
  },
  {
   "cell_type": "code",
   "execution_count": 14,
   "id": "e1a94d72-0130-44fd-b966-e6e915118c90",
   "metadata": {},
   "outputs": [],
   "source": [
    "obj = C()"
   ]
  },
  {
   "cell_type": "code",
   "execution_count": 15,
   "id": "51d4e89e-3336-46ed-ba95-85d9f02ab483",
   "metadata": {},
   "outputs": [
    {
     "data": {
      "text/plain": [
       "'Method A from class A'"
      ]
     },
     "execution_count": 15,
     "metadata": {},
     "output_type": "execute_result"
    }
   ],
   "source": [
    "obj.method_A()"
   ]
  },
  {
   "cell_type": "code",
   "execution_count": 16,
   "id": "36e71606-2c69-4db6-a2a6-daf5b1fb456e",
   "metadata": {},
   "outputs": [
    {
     "data": {
      "text/plain": [
       "'Method B from class B'"
      ]
     },
     "execution_count": 16,
     "metadata": {},
     "output_type": "execute_result"
    }
   ],
   "source": [
    "obj.method_B()"
   ]
  },
  {
   "cell_type": "code",
   "execution_count": 17,
   "id": "f27229d8-dd71-469c-84af-3c9c459f4781",
   "metadata": {},
   "outputs": [
    {
     "data": {
      "text/plain": [
       "'Method C from class C'"
      ]
     },
     "execution_count": 17,
     "metadata": {},
     "output_type": "execute_result"
    }
   ],
   "source": [
    "obj.method_C()"
   ]
  },
  {
   "cell_type": "code",
   "execution_count": 18,
   "id": "8b04ce7a-3efb-4514-9490-68e7c447f787",
   "metadata": {},
   "outputs": [],
   "source": [
    "# Q4. What are getter and setter in python? Create a class and create a getter and a setter method in this\n",
    "# class."
   ]
  },
  {
   "cell_type": "code",
   "execution_count": 19,
   "id": "8bf8bd48-d83d-49e4-974f-2687b4e3119c",
   "metadata": {},
   "outputs": [],
   "source": [
    "class MyClass:\n",
    "    def __init__(self):\n",
    "        self._my_attribute=None\n",
    "    def get_my_attribute(self):\n",
    "        return self._my_attribute\n",
    "    def set_my_attribute(self,value):\n",
    "        self._my_attribute =  value"
   ]
  },
  {
   "cell_type": "code",
   "execution_count": 23,
   "id": "b200c4cf-e130-4aeb-a9d8-36ccee1f72ee",
   "metadata": {},
   "outputs": [],
   "source": [
    "obj=MyClass()"
   ]
  },
  {
   "cell_type": "code",
   "execution_count": 24,
   "id": "4c41668e-1cff-4a2a-acfe-1c54d9cf7e0d",
   "metadata": {},
   "outputs": [],
   "source": [
    "obj.set_my_attribute(10)"
   ]
  },
  {
   "cell_type": "code",
   "execution_count": 25,
   "id": "f333b4dc-2e5c-4fc4-aa0a-3a4cb955b2ae",
   "metadata": {},
   "outputs": [
    {
     "data": {
      "text/plain": [
       "10"
      ]
     },
     "execution_count": 25,
     "metadata": {},
     "output_type": "execute_result"
    }
   ],
   "source": [
    "obj.get_my_attribute()"
   ]
  },
  {
   "cell_type": "code",
   "execution_count": 26,
   "id": "efef6a67-1b2d-4be7-af07-f0e12eeccd7c",
   "metadata": {},
   "outputs": [],
   "source": [
    "# Q5.What is method overriding in python? Write a python code to demonstrate method overriding."
   ]
  },
  {
   "cell_type": "code",
   "execution_count": 27,
   "id": "76c431ca-9ec9-4462-9bab-c46098da4225",
   "metadata": {},
   "outputs": [
    {
     "name": "stdout",
     "output_type": "stream",
     "text": [
      "Ans:-Method overriding is a feature of object-oriented programming that allows a subclass to provide a specific implementation of a method that is already defined in its superclass. When a method in a subclass has the same name, same parameters, and same return type as a method in its superclass, then the method in the subclass is said to override the method in the superclass. \n"
     ]
    }
   ],
   "source": [
    "print(\"Ans:-Method overriding is a feature of object-oriented programming that allows a subclass to provide a specific implementation of a method that is already defined in its superclass. When a method in a subclass has the same name, same parameters, and same return type as a method in its superclass, then the method in the subclass is said to override the method in the superclass. \")"
   ]
  },
  {
   "cell_type": "code",
   "execution_count": 29,
   "id": "c6a5bf6d-6d74-46fa-afbb-e63245b05378",
   "metadata": {},
   "outputs": [],
   "source": [
    "class Animal:\n",
    "    def sound(self):\n",
    "        return \"Animal makes a sound\"\n",
    "\n",
    "class Dog(Animal):\n",
    "    def sound(self):\n",
    "        return \"Dog barks\"\n",
    "\n",
    "class Cat(Animal):\n",
    "    def sound(self):\n",
    "        return \"Cat meows\""
   ]
  },
  {
   "cell_type": "code",
   "execution_count": 30,
   "id": "bc8963ff-1c53-4783-aa6b-5c7ff46e082b",
   "metadata": {},
   "outputs": [],
   "source": [
    "dog = Dog()"
   ]
  },
  {
   "cell_type": "code",
   "execution_count": 31,
   "id": "24fa7104-ce55-4d66-86a4-0f253e997e51",
   "metadata": {},
   "outputs": [],
   "source": [
    "cat = Cat()"
   ]
  },
  {
   "cell_type": "code",
   "execution_count": null,
   "id": "2d318695-2759-4884-9332-2d015e3e4e0e",
   "metadata": {},
   "outputs": [],
   "source": [
    "dog.sound"
   ]
  }
 ],
 "metadata": {
  "kernelspec": {
   "display_name": "Python 3 (ipykernel)",
   "language": "python",
   "name": "python3"
  },
  "language_info": {
   "codemirror_mode": {
    "name": "ipython",
    "version": 3
   },
   "file_extension": ".py",
   "mimetype": "text/x-python",
   "name": "python",
   "nbconvert_exporter": "python",
   "pygments_lexer": "ipython3",
   "version": "3.10.8"
  }
 },
 "nbformat": 4,
 "nbformat_minor": 5
}
