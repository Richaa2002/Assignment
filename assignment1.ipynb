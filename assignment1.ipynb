{
 "cells": [
  {
   "cell_type": "code",
   "execution_count": 1,
   "id": "f7245afc-bfd6-4f3f-bf77-e1cb748a212e",
   "metadata": {},
   "outputs": [],
   "source": [
    "# Q1. Create one variable containing following type of data:\n",
    "# (i) string\n",
    "# (ii) list\n",
    "# (iii) float\n",
    "# (iv) tuple"
   ]
  },
  {
   "cell_type": "code",
   "execution_count": 6,
   "id": "68c9a15d-5ebe-49da-9902-9bb5563ca639",
   "metadata": {},
   "outputs": [],
   "source": [
    "num1=\"Richa\""
   ]
  },
  {
   "cell_type": "code",
   "execution_count": 7,
   "id": "c605d33a-b97e-402f-a894-f91b9c624dd8",
   "metadata": {},
   "outputs": [
    {
     "name": "stdout",
     "output_type": "stream",
     "text": [
      "<class 'str'>\n"
     ]
    }
   ],
   "source": [
    "print (type(num1))"
   ]
  },
  {
   "cell_type": "code",
   "execution_count": 8,
   "id": "a143679c-61b9-4e2b-ae83-f449f426c919",
   "metadata": {},
   "outputs": [],
   "source": [
    "num2=[1,2,3,4]"
   ]
  },
  {
   "cell_type": "code",
   "execution_count": 9,
   "id": "0dcd4fab-5b35-4bbe-8f8b-106bbc5799f4",
   "metadata": {},
   "outputs": [
    {
     "name": "stdout",
     "output_type": "stream",
     "text": [
      "<class 'list'>\n"
     ]
    }
   ],
   "source": [
    "print(type(num2))"
   ]
  },
  {
   "cell_type": "code",
   "execution_count": 10,
   "id": "0cebfca5-6741-4517-bdb9-c1311c09336d",
   "metadata": {},
   "outputs": [],
   "source": [
    "num3=1.2"
   ]
  },
  {
   "cell_type": "code",
   "execution_count": 11,
   "id": "2aa1cb21-754e-4f3c-97c4-a18cd89e4959",
   "metadata": {},
   "outputs": [
    {
     "name": "stdout",
     "output_type": "stream",
     "text": [
      "<class 'float'>\n"
     ]
    }
   ],
   "source": [
    "print(type(num3))"
   ]
  },
  {
   "cell_type": "code",
   "execution_count": 12,
   "id": "26f385e1-2ba9-4690-8b36-e3af0e378725",
   "metadata": {},
   "outputs": [],
   "source": [
    "num4=(\"apple\",\"banana\",\"orange\")"
   ]
  },
  {
   "cell_type": "code",
   "execution_count": 13,
   "id": "c8c96b18-4ac7-4478-9b3d-28cc02be3270",
   "metadata": {},
   "outputs": [
    {
     "name": "stdout",
     "output_type": "stream",
     "text": [
      "<class 'tuple'>\n"
     ]
    }
   ],
   "source": [
    "print(type(num4))"
   ]
  },
  {
   "cell_type": "code",
   "execution_count": 14,
   "id": "2c7382d1-5e2c-4dc9-9431-5f90e2f668ff",
   "metadata": {},
   "outputs": [],
   "source": [
    "# Q2. Given are some following variables containing data:\n",
    "# (i) var1 = ‘ ‘\n",
    "# (ii) var2 = ‘[ DS , ML , Python]’\n",
    "# (iii) var3 = [ ‘DS’ , ’ML’ , ‘Python’ ]\n",
    "# (iv) var4 = 1.\n",
    "# What will be the data type of the above given variable."
   ]
  },
  {
   "cell_type": "code",
   "execution_count": 15,
   "id": "1ce0053d-6836-4ac0-80c1-598496062cc1",
   "metadata": {},
   "outputs": [],
   "source": [
    "var1=''"
   ]
  },
  {
   "cell_type": "code",
   "execution_count": 16,
   "id": "ed7abcc6-6dff-4ed2-b589-1e6447f71d19",
   "metadata": {},
   "outputs": [],
   "source": [
    "var2='[DS,ML,python]'"
   ]
  },
  {
   "cell_type": "code",
   "execution_count": 18,
   "id": "b859620d-ad28-465d-9937-db2ecf5b445b",
   "metadata": {},
   "outputs": [],
   "source": [
    "var3=['DS','ML','Python']"
   ]
  },
  {
   "cell_type": "code",
   "execution_count": 19,
   "id": "534a9637-7e90-47cf-aa8c-6b5eb54d1b00",
   "metadata": {},
   "outputs": [],
   "source": [
    "var4=1"
   ]
  },
  {
   "cell_type": "code",
   "execution_count": 20,
   "id": "0f9faaa3-d3bf-46bb-b025-d3198842a7d2",
   "metadata": {},
   "outputs": [
    {
     "name": "stdout",
     "output_type": "stream",
     "text": [
      "<class 'str'>\n"
     ]
    }
   ],
   "source": [
    "print(type(var1))"
   ]
  },
  {
   "cell_type": "code",
   "execution_count": 21,
   "id": "c6baedae-e6ab-4ba0-814a-980a9c7441b3",
   "metadata": {},
   "outputs": [
    {
     "name": "stdout",
     "output_type": "stream",
     "text": [
      "<class 'str'>\n"
     ]
    }
   ],
   "source": [
    "print(type(var2))"
   ]
  },
  {
   "cell_type": "code",
   "execution_count": 22,
   "id": "ed86d9b1-2c78-421f-9237-00a003a62c23",
   "metadata": {},
   "outputs": [
    {
     "name": "stdout",
     "output_type": "stream",
     "text": [
      "<class 'list'>\n"
     ]
    }
   ],
   "source": [
    "print(type(var3))"
   ]
  },
  {
   "cell_type": "code",
   "execution_count": 23,
   "id": "37110926-633a-42e1-a1b8-879cc18be442",
   "metadata": {},
   "outputs": [
    {
     "name": "stdout",
     "output_type": "stream",
     "text": [
      "<class 'int'>\n"
     ]
    }
   ],
   "source": [
    "print(type(var4))"
   ]
  },
  {
   "cell_type": "code",
   "execution_count": 27,
   "id": "a7f10521-a52a-4590-94cc-d447393b40b1",
   "metadata": {},
   "outputs": [],
   "source": [
    "# Q3. Explain the use of the following operators using an example:\n",
    "# (i) /\n",
    "# (ii) %\n",
    "# (iii) //\n",
    "# (iv) **"
   ]
  },
  {
   "cell_type": "code",
   "execution_count": 25,
   "id": "f3995879-503f-486a-bbf8-0c95b29fbf22",
   "metadata": {},
   "outputs": [],
   "source": [
    "# (i) / :- It is used to divide"
   ]
  },
  {
   "cell_type": "code",
   "execution_count": 28,
   "id": "f9f33238-4ee5-49fe-a5f7-4b5dca934d7d",
   "metadata": {},
   "outputs": [],
   "source": [
    "a=7"
   ]
  },
  {
   "cell_type": "code",
   "execution_count": 29,
   "id": "e7d3de57-62a5-4ae3-a4cc-fdeb9b6ef879",
   "metadata": {},
   "outputs": [],
   "source": [
    "b=3"
   ]
  },
  {
   "cell_type": "code",
   "execution_count": 30,
   "id": "9909d09d-bfb9-4468-b323-7908faa156ea",
   "metadata": {},
   "outputs": [
    {
     "name": "stdout",
     "output_type": "stream",
     "text": [
      "2.3333333333333335\n"
     ]
    }
   ],
   "source": [
    "print(a/b)"
   ]
  },
  {
   "cell_type": "code",
   "execution_count": 31,
   "id": "824933a0-4188-485a-a5b8-5fd2b39c57d3",
   "metadata": {},
   "outputs": [],
   "source": [
    "# (ii) %:- It is used to get the reminder"
   ]
  },
  {
   "cell_type": "code",
   "execution_count": 32,
   "id": "ffc92be2-1d00-4ad9-bf61-30b7a57ea42a",
   "metadata": {},
   "outputs": [
    {
     "name": "stdout",
     "output_type": "stream",
     "text": [
      "1\n"
     ]
    }
   ],
   "source": [
    "print(a%b)"
   ]
  },
  {
   "cell_type": "code",
   "execution_count": 33,
   "id": "2ac3bdd7-c0af-4faa-8a03-53a2d8e7347f",
   "metadata": {},
   "outputs": [],
   "source": [
    "# (iii) // :- It is used to floor divide"
   ]
  },
  {
   "cell_type": "code",
   "execution_count": 34,
   "id": "003c54ad-eb30-46b5-90fc-589a980ebfd3",
   "metadata": {},
   "outputs": [
    {
     "name": "stdout",
     "output_type": "stream",
     "text": [
      "2\n"
     ]
    }
   ],
   "source": [
    "print(a//b)"
   ]
  },
  {
   "cell_type": "code",
   "execution_count": 35,
   "id": "423943d2-10ea-434f-9267-e5d97b8fe6d4",
   "metadata": {},
   "outputs": [],
   "source": [
    "# (iv) ** :- It is used to get the power"
   ]
  },
  {
   "cell_type": "code",
   "execution_count": 36,
   "id": "f685bf63-b168-4347-91c8-89f186e648a4",
   "metadata": {},
   "outputs": [
    {
     "name": "stdout",
     "output_type": "stream",
     "text": [
      "343\n"
     ]
    }
   ],
   "source": [
    "print(a**b)"
   ]
  },
  {
   "cell_type": "code",
   "execution_count": 37,
   "id": "bdd97fc3-960e-4d12-874b-8247b0dbdc16",
   "metadata": {},
   "outputs": [],
   "source": [
    "# Q4. Create a list of length 10 of your choice containing multiple types of data. Using for loop print the\n",
    "# element and its data type."
   ]
  },
  {
   "cell_type": "code",
   "execution_count": 39,
   "id": "a400dccf-d42e-4dcf-b464-f0aa641a0b88",
   "metadata": {},
   "outputs": [],
   "source": [
    "l=[1,'richa',1.5,'true',3+7j,2,3,4,5,6]"
   ]
  },
  {
   "cell_type": "code",
   "execution_count": 40,
   "id": "ce6d2678-acb2-4e6c-993b-864026d67cc8",
   "metadata": {},
   "outputs": [
    {
     "name": "stdout",
     "output_type": "stream",
     "text": [
      "10\n"
     ]
    }
   ],
   "source": [
    "print(len(l))"
   ]
  },
  {
   "cell_type": "code",
   "execution_count": 41,
   "id": "644c0a12-757a-471c-be7b-5c8f38f70798",
   "metadata": {},
   "outputs": [
    {
     "name": "stdout",
     "output_type": "stream",
     "text": [
      "1\n",
      "<class 'int'>\n",
      "richa\n",
      "<class 'str'>\n",
      "1.5\n",
      "<class 'float'>\n",
      "true\n",
      "<class 'str'>\n",
      "(3+7j)\n",
      "<class 'complex'>\n",
      "2\n",
      "<class 'int'>\n",
      "3\n",
      "<class 'int'>\n",
      "4\n",
      "<class 'int'>\n",
      "5\n",
      "<class 'int'>\n",
      "6\n",
      "<class 'int'>\n"
     ]
    }
   ],
   "source": [
    "for i in l:\n",
    "    print(i)\n",
    "    print(type(i))"
   ]
  },
  {
   "cell_type": "code",
   "execution_count": 42,
   "id": "7cf7c8aa-fb03-4a40-8f07-1fcbf70d5df6",
   "metadata": {},
   "outputs": [],
   "source": [
    "# Q5. Using a while loop, verify if the number A is purely divisible by number B and if so then how many\n",
    "# times it can be divisible."
   ]
  },
  {
   "cell_type": "code",
   "execution_count": 1,
   "id": "8926ad74-562b-489c-9e26-3b02f715a6c1",
   "metadata": {},
   "outputs": [
    {
     "name": "stdin",
     "output_type": "stream",
     "text": [
      "Enter the value of A:  5\n",
      "Enter the value of B:  4\n"
     ]
    },
    {
     "name": "stdout",
     "output_type": "stream",
     "text": [
      "5 is divisible by 4 1 times.\n"
     ]
    }
   ],
   "source": [
    "def count_divisible(A,B):\n",
    "    count = 0\n",
    "    while A%B==0:\n",
    "       A//=B \n",
    "    count+=1\n",
    "    return count\n",
    "A = int(input(\"Enter the value of A: \"))\n",
    "B = int(input(\"Enter the value of B: \"))\n",
    "\n",
    "divisible_count = count_divisible(A, B)\n",
    "\n",
    "if divisible_count > 0:\n",
    "    print(f\"{A} is divisible by {B} {divisible_count} times.\")\n",
    "else:\n",
    "    print(f\"{A} is not divisible by {B}.\")"
   ]
  },
  {
   "cell_type": "code",
   "execution_count": 1,
   "id": "b6c74e6e-b193-4ee5-b2a1-0bfddc28d680",
   "metadata": {},
   "outputs": [],
   "source": [
    "# Q6. Create a list containing 25 int type data. Using for loop and if-else condition print if the element is\n",
    "# divisible by 3 or not."
   ]
  },
  {
   "cell_type": "code",
   "execution_count": 4,
   "id": "6f502f64-1278-4d00-a0ea-8e18797ab35a",
   "metadata": {},
   "outputs": [
    {
     "name": "stdout",
     "output_type": "stream",
     "text": [
      "1 is not divisible by 3\n",
      "2 is not divisible by 3\n",
      "3 is divisible by 3\n",
      "4 is not divisible by 3\n",
      "5 is not divisible by 3\n",
      "6 is divisible by 3\n",
      "7 is not divisible by 3\n",
      "8 is not divisible by 3\n",
      "9 is divisible by 3\n",
      "10 is not divisible by 3\n",
      "11 is not divisible by 3\n",
      "12 is divisible by 3\n",
      "13 is not divisible by 3\n",
      "14 is not divisible by 3\n",
      "15 is divisible by 3\n",
      "16 is not divisible by 3\n",
      "17 is not divisible by 3\n",
      "18 is divisible by 3\n",
      "19 is not divisible by 3\n",
      "20 is not divisible by 3\n",
      "21 is divisible by 3\n",
      "22 is not divisible by 3\n",
      "23 is not divisible by 3\n",
      "24 is divisible by 3\n",
      "25 is not divisible by 3\n"
     ]
    }
   ],
   "source": [
    "my_list = [i for i in range(1,26)]\n",
    "for num in my_list:\n",
    "    if num%3==0:\n",
    "        print(f\"{num} is divisible by 3\")\n",
    "    else:\n",
    "            print(f\"{num} is not divisible by 3\")"
   ]
  },
  {
   "cell_type": "code",
   "execution_count": 5,
   "id": "7bf470ca-a6a5-41ba-95aa-2b4b8d020941",
   "metadata": {},
   "outputs": [],
   "source": [
    "# Q7. What do you understand about mutable and immutable data types? Give examples for both showing\n",
    "# this property."
   ]
  },
  {
   "cell_type": "code",
   "execution_count": 6,
   "id": "52258c2b-7020-48c1-af72-9189cac77ffa",
   "metadata": {},
   "outputs": [],
   "source": [
    "# Mutable data types are those whose values can be changed after they are created."
   ]
  },
  {
   "cell_type": "code",
   "execution_count": 7,
   "id": "c62d81e8-4e64-46ed-a836-609402c811f0",
   "metadata": {},
   "outputs": [],
   "source": [
    "my_list=[1,2,3]"
   ]
  },
  {
   "cell_type": "code",
   "execution_count": 8,
   "id": "9da156e0-0223-41aa-b978-8855441c23cd",
   "metadata": {},
   "outputs": [
    {
     "name": "stdout",
     "output_type": "stream",
     "text": [
      "[1, 2, 3]\n"
     ]
    }
   ],
   "source": [
    "print(my_list)"
   ]
  },
  {
   "cell_type": "code",
   "execution_count": 9,
   "id": "2975ff19-2414-4dbe-a3e3-c4b9516ade0c",
   "metadata": {},
   "outputs": [],
   "source": [
    "my_list.append(4)"
   ]
  },
  {
   "cell_type": "code",
   "execution_count": 10,
   "id": "f1c05fa9-7a28-4457-9f54-f7b90f45e7c9",
   "metadata": {},
   "outputs": [
    {
     "name": "stdout",
     "output_type": "stream",
     "text": [
      "[1, 2, 3, 4]\n"
     ]
    }
   ],
   "source": [
    "print(my_list)"
   ]
  },
  {
   "cell_type": "code",
   "execution_count": 11,
   "id": "567e4be2-5811-4bb8-9d53-fd6cc5c98dbb",
   "metadata": {},
   "outputs": [],
   "source": [
    "# Immutable data types are those whose values cannot be changed after they are created."
   ]
  },
  {
   "cell_type": "code",
   "execution_count": 12,
   "id": "7c84b886-8719-414e-9fc8-75865955b3ec",
   "metadata": {},
   "outputs": [],
   "source": [
    "my_int = 10"
   ]
  },
  {
   "cell_type": "code",
   "execution_count": 13,
   "id": "96570acc-66f3-4fd5-950e-32d051a46cba",
   "metadata": {},
   "outputs": [
    {
     "name": "stdout",
     "output_type": "stream",
     "text": [
      "10\n"
     ]
    }
   ],
   "source": [
    "print(my_int)"
   ]
  },
  {
   "cell_type": "code",
   "execution_count": 14,
   "id": "eb320bae-0428-4741-ae61-ce2930b842db",
   "metadata": {},
   "outputs": [],
   "source": [
    "my_string=\"richa\""
   ]
  },
  {
   "cell_type": "code",
   "execution_count": 15,
   "id": "b564a53f-6dff-4449-b867-8928285fb8ec",
   "metadata": {},
   "outputs": [
    {
     "name": "stdout",
     "output_type": "stream",
     "text": [
      "richa\n"
     ]
    }
   ],
   "source": [
    "print(my_string)"
   ]
  },
  {
   "cell_type": "code",
   "execution_count": 16,
   "id": "db80478d-16ec-4b9b-9d0f-910a465b47c2",
   "metadata": {},
   "outputs": [],
   "source": [
    "new_string=my_string+\"world\""
   ]
  },
  {
   "cell_type": "code",
   "execution_count": 17,
   "id": "3551f7d1-7426-4a48-9a36-c5616a322e6b",
   "metadata": {},
   "outputs": [
    {
     "name": "stdout",
     "output_type": "stream",
     "text": [
      "richaworld\n"
     ]
    }
   ],
   "source": [
    "print(new_string)"
   ]
  },
  {
   "cell_type": "code",
   "execution_count": 18,
   "id": "0c616be1-b893-4e84-a528-ed89713aef03",
   "metadata": {},
   "outputs": [],
   "source": [
    "new_int=my_int+11"
   ]
  },
  {
   "cell_type": "code",
   "execution_count": 19,
   "id": "3fe6ae2e-698f-4e02-b0be-6a12e8d43e8c",
   "metadata": {},
   "outputs": [
    {
     "name": "stdout",
     "output_type": "stream",
     "text": [
      "21\n"
     ]
    }
   ],
   "source": [
    "print(new_int)"
   ]
  },
  {
   "cell_type": "code",
   "execution_count": 20,
   "id": "d1015f71-5b9e-4a60-ba34-66a2efb736dd",
   "metadata": {},
   "outputs": [
    {
     "ename": "AttributeError",
     "evalue": "'int' object has no attribute 'apend'",
     "output_type": "error",
     "traceback": [
      "\u001b[0;31m---------------------------------------------------------------------------\u001b[0m",
      "\u001b[0;31mAttributeError\u001b[0m                            Traceback (most recent call last)",
      "Cell \u001b[0;32mIn[20], line 1\u001b[0m\n\u001b[0;32m----> 1\u001b[0m \u001b[43mmy_int\u001b[49m\u001b[38;5;241;43m.\u001b[39;49m\u001b[43mapend\u001b[49m(\u001b[38;5;241m11\u001b[39m)\n",
      "\u001b[0;31mAttributeError\u001b[0m: 'int' object has no attribute 'apend'"
     ]
    }
   ],
   "source": [
    "my_int.apend(11)"
   ]
  }
 ],
 "metadata": {
  "kernelspec": {
   "display_name": "Python 3 (ipykernel)",
   "language": "python",
   "name": "python3"
  },
  "language_info": {
   "codemirror_mode": {
    "name": "ipython",
    "version": 3
   },
   "file_extension": ".py",
   "mimetype": "text/x-python",
   "name": "python",
   "nbconvert_exporter": "python",
   "pygments_lexer": "ipython3",
   "version": "3.10.8"
  }
 },
 "nbformat": 4,
 "nbformat_minor": 5
}
