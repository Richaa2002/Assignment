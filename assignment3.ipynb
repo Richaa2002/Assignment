{
 "cells": [
  {
   "cell_type": "code",
   "execution_count": 1,
   "id": "06d59290-78d7-4a68-83e2-88d068417ce1",
   "metadata": {},
   "outputs": [],
   "source": [
    "# Q1. Which keyword is used to create a function? Create a function to return a list of odd numbers in the\n",
    "# range of 1 to 25."
   ]
  },
  {
   "cell_type": "code",
   "execution_count": 2,
   "id": "fccee235-78ec-455b-a4c2-6224e81aa379",
   "metadata": {},
   "outputs": [
    {
     "name": "stdout",
     "output_type": "stream",
     "text": [
      "The keyword used to create a function in Python is 'def'\n"
     ]
    }
   ],
   "source": [
    "print(\"The keyword used to create a function in Python is 'def'\")"
   ]
  },
  {
   "cell_type": "code",
   "execution_count": 3,
   "id": "3a006edd-90fc-424b-a6b4-853633689bd1",
   "metadata": {},
   "outputs": [],
   "source": [
    "def odd_number():\n",
    "    return[num for num in range(1,26) if num%2!=0]"
   ]
  },
  {
   "cell_type": "code",
   "execution_count": 4,
   "id": "df9f05c5-f8c7-4281-8b54-5cb03403a403",
   "metadata": {},
   "outputs": [
    {
     "data": {
      "text/plain": [
       "[1, 3, 5, 7, 9, 11, 13, 15, 17, 19, 21, 23, 25]"
      ]
     },
     "execution_count": 4,
     "metadata": {},
     "output_type": "execute_result"
    }
   ],
   "source": [
    "odd_number()"
   ]
  },
  {
   "cell_type": "code",
   "execution_count": 5,
   "id": "2b1f048f-842b-4651-a45b-818406d7109d",
   "metadata": {},
   "outputs": [],
   "source": [
    "# Q2. Why *args and **kwargs is used in some functions? Create a function each for *args and **kwargs\n",
    "# to demonstrate their use."
   ]
  },
  {
   "cell_type": "code",
   "execution_count": 6,
   "id": "2024317d-96d3-4f7a-9a07-43b418de45cc",
   "metadata": {},
   "outputs": [
    {
     "name": "stdout",
     "output_type": "stream",
     "text": [
      "ans:- *args allows you to pass a variable number of positional arguments to a function. Inside the function, args will be a tuple containing all the positional arguments passed. \n",
      " **kwargs allows you to pass a variable number of keyword arguments (or named arguments) to a function. Inside the function, kwargs will be a dictionary containing all the keyword arguments passed.\n"
     ]
    }
   ],
   "source": [
    "print(\"ans:- *args allows you to pass a variable number of positional arguments to a function. Inside the function, args will be a tuple containing all the positional arguments passed. \\n **kwargs allows you to pass a variable number of keyword arguments (or named arguments) to a function. Inside the function, kwargs will be a dictionary containing all the keyword arguments passed.\")"
   ]
  },
  {
   "cell_type": "code",
   "execution_count": 7,
   "id": "c33a9f39-9bec-4940-bdac-5cc142a39a08",
   "metadata": {},
   "outputs": [],
   "source": [
    "# *args"
   ]
  },
  {
   "cell_type": "code",
   "execution_count": 8,
   "id": "d543ec9a-e258-4e6f-8bb2-9eef42135a60",
   "metadata": {},
   "outputs": [],
   "source": [
    "def test(*richa,a):\n",
    "    return richa,a"
   ]
  },
  {
   "cell_type": "code",
   "execution_count": 9,
   "id": "87e28802-dd7a-431c-bf24-eea233f2b5a9",
   "metadata": {},
   "outputs": [
    {
     "data": {
      "text/plain": [
       "((1, 2, 3, 4, 4, 5), 12)"
      ]
     },
     "execution_count": 9,
     "metadata": {},
     "output_type": "execute_result"
    }
   ],
   "source": [
    "test(1,2,3,4,4,5, a=12)"
   ]
  },
  {
   "cell_type": "code",
   "execution_count": 10,
   "id": "ffee39c6-0e37-4868-b1db-0ea1b962c385",
   "metadata": {},
   "outputs": [],
   "source": [
    "# **kwargs"
   ]
  },
  {
   "cell_type": "code",
   "execution_count": 11,
   "id": "18f53ba6-87ed-43c3-ae9d-57760da28cfd",
   "metadata": {},
   "outputs": [],
   "source": [
    "def test1(**richa):\n",
    "    return richa"
   ]
  },
  {
   "cell_type": "code",
   "execution_count": 12,
   "id": "194e3532-71d6-458e-b9b5-4d6f1379f265",
   "metadata": {},
   "outputs": [
    {
     "data": {
      "text/plain": [
       "{'a': [1, 2, 3, 4, 4, 5], 'b': ['richa', 'kumari'], 'c': 22}"
      ]
     },
     "execution_count": 12,
     "metadata": {},
     "output_type": "execute_result"
    }
   ],
   "source": [
    "test1(a=[1,2,3,4,4,5], b=[\"richa\",\"kumari\"],c=22)"
   ]
  },
  {
   "cell_type": "code",
   "execution_count": 13,
   "id": "ff39c181-d27f-469c-97bd-109b1c9fc685",
   "metadata": {},
   "outputs": [],
   "source": [
    "# Q3. What is an iterator in python? Name the method used to initialise the iterator object and the method\n",
    "# used for iteration. Use these methods to print the first five elements of the given list [2, 4, 6, 8, 10, 12, 14,\n",
    "# 16, 18, 20]."
   ]
  },
  {
   "cell_type": "code",
   "execution_count": 14,
   "id": "24a1647f-bb97-4dd7-b1fd-14d43fe5d34e",
   "metadata": {},
   "outputs": [
    {
     "name": "stdout",
     "output_type": "stream",
     "text": [
      "Ans:- An iterator in Python is like a tool that helps you go through a bunch of things one at a time, like flipping through pages in a book. For ex:- you have a book, and you're using your finger to move from one page to the next. Your finger is like the iterator, and each page is an item that you're looking at.\n",
      " Iterators implement two methods:\n",
      " 1.Initialization Method: The iter() method is used to initialize an iterator object from an iterable. This method returns an iterator object.\n",
      " 2.Iteration Method: The next() method is used to iterate over the elements of the iterator. It returns the next element in the sequence.\n"
     ]
    }
   ],
   "source": [
    "print(\"Ans:- An iterator in Python is like a tool that helps you go through a bunch of things one at a time, like flipping through pages in a book. For ex:- you have a book, and you're using your finger to move from one page to the next. Your finger is like the iterator, and each page is an item that you're looking at.\\n Iterators implement two methods:\\n 1.Initialization Method: The iter() method is used to initialize an iterator object from an iterable. This method returns an iterator object.\\n 2.Iteration Method: The next() method is used to iterate over the elements of the iterator. It returns the next element in the sequence.\")"
   ]
  },
  {
   "cell_type": "code",
   "execution_count": 15,
   "id": "a415f014-462e-4c33-a83e-85e60cd2555c",
   "metadata": {},
   "outputs": [
    {
     "name": "stdout",
     "output_type": "stream",
     "text": [
      "[2, 4, 6, 8, 10]\n"
     ]
    }
   ],
   "source": [
    "l = [2, 4, 6, 8, 10, 12, 14, 16, 18, 20]\n",
    "l1 = iter(l)\n",
    "l2 = []\n",
    "\n",
    "for _ in range(5):\n",
    "    element = next(l1)\n",
    "    l2.append(element)\n",
    "\n",
    "print(l2)\n"
   ]
  },
  {
   "cell_type": "code",
   "execution_count": 16,
   "id": "72e622a9-2559-4a0f-a545-994fc365ac42",
   "metadata": {},
   "outputs": [],
   "source": [
    "# Q4. What is a generator function in python? Why yield keyword is used? Give an example of a generator\n",
    "# function."
   ]
  },
  {
   "cell_type": "code",
   "execution_count": 17,
   "id": "90b7c0fe-4928-4525-9d42-90b36a15fcd9",
   "metadata": {},
   "outputs": [
    {
     "name": "stdout",
     "output_type": "stream",
     "text": [
      "Ans:- In Python, a generator function is a special type of function that returns an iterator, which generates values on the fly as they are needed, rather than computing them all at once and storing them in memory.\n"
     ]
    }
   ],
   "source": [
    "print(\"Ans:- In Python, a generator function is a special type of function that returns an iterator, which generates values on the fly as they are needed, rather than computing them all at once and storing them in memory.\")"
   ]
  },
  {
   "cell_type": "code",
   "execution_count": 18,
   "id": "709748c4-edac-4d10-806e-975746de7c84",
   "metadata": {},
   "outputs": [
    {
     "name": "stdout",
     "output_type": "stream",
     "text": [
      "The yield keyword is used in generator functions to yield (i.e., produce and return) a value to the caller, suspending the function's state in between calls. Unlike return, which terminates the function and returns a value once, yield allows the function to produce a series of values across multiple invocations, maintaining its internal state between each call.\n"
     ]
    }
   ],
   "source": [
    "print(\"The yield keyword is used in generator functions to yield (i.e., produce and return) a value to the caller, suspending the function's state in between calls. Unlike return, which terminates the function and returns a value once, yield allows the function to produce a series of values across multiple invocations, maintaining its internal state between each call.\")"
   ]
  },
  {
   "cell_type": "code",
   "execution_count": 19,
   "id": "cca36e6c-c58a-47cf-a0e7-70d14d739a3b",
   "metadata": {},
   "outputs": [],
   "source": [
    "# example:-"
   ]
  },
  {
   "cell_type": "code",
   "execution_count": 20,
   "id": "9201e843-9038-4035-a619-64d8683b6fa7",
   "metadata": {},
   "outputs": [
    {
     "name": "stdout",
     "output_type": "stream",
     "text": [
      "0\n",
      "1\n",
      "1\n",
      "2\n",
      "3\n",
      "5\n",
      "8\n",
      "13\n",
      "21\n",
      "34\n"
     ]
    }
   ],
   "source": [
    "def fibonacci_generator():\n",
    "    a, b = 0, 1\n",
    "    while True:\n",
    "        yield a\n",
    "        a, b = b, a + b\n",
    "\n",
    "fib_gen = fibonacci_generator()\n",
    "for _ in range(10):\n",
    "    print(next(fib_gen))\n"
   ]
  },
  {
   "cell_type": "code",
   "execution_count": 21,
   "id": "0d132098-4653-4ccb-89b8-ed381ec75bf2",
   "metadata": {},
   "outputs": [],
   "source": [
    "# Q5. Create a generator function for prime numbers less than 1000. Use the next() method to print the\n",
    "# first 20 prime numbers."
   ]
  },
  {
   "cell_type": "code",
   "execution_count": 22,
   "id": "1cf47016-0d88-4819-a511-40c778fcda2e",
   "metadata": {},
   "outputs": [
    {
     "name": "stdout",
     "output_type": "stream",
     "text": [
      "2\n",
      "3\n",
      "5\n",
      "7\n",
      "11\n",
      "13\n",
      "17\n",
      "19\n",
      "23\n",
      "29\n",
      "31\n",
      "37\n",
      "41\n",
      "43\n",
      "47\n",
      "53\n",
      "59\n",
      "61\n",
      "67\n",
      "71\n"
     ]
    }
   ],
   "source": [
    "def prime_generator():\n",
    "    num = 2\n",
    "    while num < 1000:\n",
    "        is_prime = True\n",
    "        for i in range(2, num):\n",
    "            if num % i == 0:\n",
    "                is_prime = False\n",
    "                break\n",
    "        if is_prime:\n",
    "            yield num\n",
    "        num += 1\n",
    "\n",
    "prime_gen = prime_generator()\n",
    "for _ in range(20):\n",
    "    print(next(prime_gen))\n"
   ]
  },
  {
   "cell_type": "code",
   "execution_count": 23,
   "id": "6a412d69-a152-4eca-b490-83821128d551",
   "metadata": {},
   "outputs": [],
   "source": [
    "# Q6. Write a python program to print the first 10 Fibonacci numbers using a while loop."
   ]
  },
  {
   "cell_type": "code",
   "execution_count": 24,
   "id": "3867f56f-c4cd-4d1c-bcb5-3fe5d712f3ca",
   "metadata": {},
   "outputs": [
    {
     "name": "stdout",
     "output_type": "stream",
     "text": [
      "0\n",
      "1\n",
      "1\n",
      "2\n",
      "3\n",
      "5\n",
      "8\n",
      "13\n",
      "21\n",
      "34\n"
     ]
    }
   ],
   "source": [
    "a,b=0,1\n",
    "count=0\n",
    "while count<10:\n",
    "    print(a)\n",
    "    a,b=b,a+b\n",
    "    count+=1"
   ]
  },
  {
   "cell_type": "code",
   "execution_count": 25,
   "id": "8a653324-b0d5-42f0-86a8-4242c603e31d",
   "metadata": {},
   "outputs": [],
   "source": [
    "# Q7. Write a List Comprehension to iterate through the given string: ‘pwskills’.\n",
    "# Expected output: ['p', 'w', 's', 'k', 'i', 'l', 'l', 's']"
   ]
  },
  {
   "cell_type": "code",
   "execution_count": 26,
   "id": "d443798b-8265-4445-a081-055c5c5db36b",
   "metadata": {},
   "outputs": [
    {
     "data": {
      "text/plain": [
       "['P', 'W', 'S', 'K', 'I', 'L', 'L', 'S']"
      ]
     },
     "execution_count": 26,
     "metadata": {},
     "output_type": "execute_result"
    }
   ],
   "source": [
    "s='pwskills'\n",
    "list(map(lambda s:s.upper(),s))"
   ]
  },
  {
   "cell_type": "code",
   "execution_count": 27,
   "id": "a152e50b-31bf-46b8-a4cf-6f8b16c7b3e7",
   "metadata": {},
   "outputs": [],
   "source": [
    "# Q8. Write a python program to check whether a given number is Palindrome or not using a while loop."
   ]
  },
  {
   "cell_type": "code",
   "execution_count": 29,
   "id": "e315bbaf-562b-48f7-8bfc-9f93a3e339a9",
   "metadata": {},
   "outputs": [
    {
     "name": "stdin",
     "output_type": "stream",
     "text": [
      "Enter a number to check if it's a palindrome:  78\n"
     ]
    },
    {
     "name": "stdout",
     "output_type": "stream",
     "text": [
      "78 is not a palindrome.\n"
     ]
    }
   ],
   "source": [
    "def is_palindrome(number):\n",
    "    num_str = str(number)\n",
    "    start = 0\n",
    "    end = len(num_str) - 1\n",
    "    while start < end:\n",
    "        if num_str[start] != num_str[end]:\n",
    "            return False\n",
    "        start += 1\n",
    "        end -= 1\n",
    "    return True\n",
    "\n",
    "number = int(input(\"Enter a number to check if it's a palindrome: \"))\n",
    "if is_palindrome(number):\n",
    "    print(number, \"is a palindrome.\")\n",
    "else:\n",
    "    print(number, \"is not a palindrome.\")\n"
   ]
  },
  {
   "cell_type": "code",
   "execution_count": 30,
   "id": "4a25b52c-2899-4b21-8e39-fffd4fcf9d25",
   "metadata": {},
   "outputs": [],
   "source": [
    "# Q9. Write a code to print odd numbers from 1 to 100 using list comprehension.\n",
    "# Note: Use a list comprehension to create a list from 1 to 100 and use another List comprehension to filter\n",
    "# out odd numbers."
   ]
  },
  {
   "cell_type": "code",
   "execution_count": 31,
   "id": "f0bf8ffa-ed43-4fc3-8f0d-8ceaeb5cf1c4",
   "metadata": {},
   "outputs": [
    {
     "name": "stdout",
     "output_type": "stream",
     "text": [
      "[1, 3, 5, 7, 9, 11, 13, 15, 17, 19, 21, 23, 25, 27, 29, 31, 33, 35, 37, 39, 41, 43, 45, 47, 49, 51, 53, 55, 57, 59, 61, 63, 65, 67, 69, 71, 73, 75, 77, 79, 81, 83, 85, 87, 89, 91, 93, 95, 97, 99]\n"
     ]
    }
   ],
   "source": [
    "numbers = [num for num in range(1,101)]\n",
    "odd_numbers = [num for num in numbers if num%2 !=0]\n",
    "print (odd_numbers)"
   ]
  },
  {
   "cell_type": "code",
   "execution_count": null,
   "id": "321de083-c833-488b-8aee-7a1191f83e01",
   "metadata": {},
   "outputs": [],
   "source": []
  }
 ],
 "metadata": {
  "kernelspec": {
   "display_name": "Python 3 (ipykernel)",
   "language": "python",
   "name": "python3"
  },
  "language_info": {
   "codemirror_mode": {
    "name": "ipython",
    "version": 3
   },
   "file_extension": ".py",
   "mimetype": "text/x-python",
   "name": "python",
   "nbconvert_exporter": "python",
   "pygments_lexer": "ipython3",
   "version": "3.10.8"
  }
 },
 "nbformat": 4,
 "nbformat_minor": 5
}
