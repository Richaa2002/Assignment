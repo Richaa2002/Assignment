{
 "cells": [
  {
   "cell_type": "code",
   "execution_count": 1,
   "id": "22199953-7cc2-4a6c-bb6a-46c1e1293c70",
   "metadata": {},
   "outputs": [],
   "source": [
    "# Q1. How do you comment code in Python? What are the different types of comments?"
   ]
  },
  {
   "cell_type": "code",
   "execution_count": 2,
   "id": "b30560d6-a47a-44a1-b407-78fb73109c1e",
   "metadata": {},
   "outputs": [
    {
     "name": "stdout",
     "output_type": "stream",
     "text": [
      "Answer:- In python we can add comments to our code by using '#' symbol. Anything written after the symbol '#' on a line is considered a comment and is ignored by python interpreter.  \n"
     ]
    }
   ],
   "source": [
    "print(\"Answer:- In python we can add comments to our code by using '#' symbol. Anything written after the symbol '#' on a line is considered a comment and is ignored by python interpreter.  \")\n"
   ]
  },
  {
   "cell_type": "code",
   "execution_count": 3,
   "id": "cb3eabad-1bd8-4e55-8cd6-37b89d6c5fb4",
   "metadata": {},
   "outputs": [
    {
     "name": "stdout",
     "output_type": "stream",
     "text": [
      "for example:-\n"
     ]
    }
   ],
   "source": [
    "print(\"for example:-\")"
   ]
  },
  {
   "cell_type": "code",
   "execution_count": 4,
   "id": "f3c34e00-c7e7-49aa-92a7-87eca0dd58b8",
   "metadata": {},
   "outputs": [
    {
     "name": "stdout",
     "output_type": "stream",
     "text": [
      "hyy! richa\n"
     ]
    }
   ],
   "source": [
    "# This is an comment\n",
    "print(\"hyy! richa\")"
   ]
  },
  {
   "cell_type": "code",
   "execution_count": 5,
   "id": "f12b5430-555b-46e4-889c-0589e9b7f2c2",
   "metadata": {},
   "outputs": [
    {
     "name": "stdout",
     "output_type": "stream",
     "text": [
      "There are two main types of comments in python :- 1. single line comment:- It occupy only one line in our coe. 2:- Multi-line comments:-It occupy too many lines in our code.\n"
     ]
    }
   ],
   "source": [
    "print(\"There are two main types of comments in python :- 1. single line comment:- It occupy only one line in our coe. 2:- Multi-line comments:-It occupy too many lines in our code.\")"
   ]
  },
  {
   "cell_type": "code",
   "execution_count": 6,
   "id": "4669c592-b100-435b-8c13-ba3f378d71dc",
   "metadata": {},
   "outputs": [
    {
     "name": "stdout",
     "output_type": "stream",
     "text": [
      "examples:-\n"
     ]
    }
   ],
   "source": [
    "print(\"examples:-\")"
   ]
  },
  {
   "cell_type": "code",
   "execution_count": 7,
   "id": "80500e85-1d1d-4de3-a05e-939398310f93",
   "metadata": {},
   "outputs": [],
   "source": [
    "# This is a single-line comment"
   ]
  },
  {
   "cell_type": "code",
   "execution_count": 8,
   "id": "317cfb19-ed12-41f9-a399-5f2250e95d03",
   "metadata": {},
   "outputs": [
    {
     "data": {
      "text/plain": [
       "'\\nthis is \\nmulti\\nline\\ncomments\\n'"
      ]
     },
     "execution_count": 8,
     "metadata": {},
     "output_type": "execute_result"
    }
   ],
   "source": [
    "'''\n",
    "this is \n",
    "multi\n",
    "line\n",
    "comments\n",
    "'''"
   ]
  },
  {
   "cell_type": "code",
   "execution_count": 9,
   "id": "2ce77f79-7398-414b-b566-86d7cf0fc777",
   "metadata": {},
   "outputs": [],
   "source": [
    "# Q2. What are variables in Python? How do you declare and assign values to variables?"
   ]
  },
  {
   "cell_type": "code",
   "execution_count": 10,
   "id": "b646df0d-8645-4dcb-8b9b-7809109e6625",
   "metadata": {},
   "outputs": [
    {
     "name": "stdout",
     "output_type": "stream",
     "text": [
      "Answer:- variables in python are used to store data values. It is like a container that hold information. we can declare and assign values to variables like this which is given below :- \n"
     ]
    }
   ],
   "source": [
    "print(\"Answer:- variables in python are used to store data values. It is like a container that hold information. we can declare and assign values to variables like this which is given below :- \")"
   ]
  },
  {
   "cell_type": "code",
   "execution_count": 11,
   "id": "741d816e-e932-4cdf-a355-8b4620b48aec",
   "metadata": {},
   "outputs": [],
   "source": [
    "x=10\n",
    "name=\"richa\""
   ]
  },
  {
   "cell_type": "code",
   "execution_count": 12,
   "id": "908d4cef-8019-4c90-a7da-d0adf041e483",
   "metadata": {},
   "outputs": [],
   "source": [
    "# multiple assign values \n",
    "x,y,z=1,2,3"
   ]
  },
  {
   "cell_type": "code",
   "execution_count": 13,
   "id": "2ebac52f-d51f-45a0-8c0f-138ab5a232c1",
   "metadata": {},
   "outputs": [],
   "source": [
    "# reassign\n",
    "a=10\n",
    "a=5"
   ]
  },
  {
   "cell_type": "code",
   "execution_count": 14,
   "id": "73f54e60-c2ee-4a87-a745-0ce473706688",
   "metadata": {},
   "outputs": [
    {
     "data": {
      "text/plain": [
       "5"
      ]
     },
     "execution_count": 14,
     "metadata": {},
     "output_type": "execute_result"
    }
   ],
   "source": [
    "a"
   ]
  },
  {
   "cell_type": "code",
   "execution_count": 15,
   "id": "6caf04fa-3971-4f3e-9a68-9ba5bda9c9fc",
   "metadata": {},
   "outputs": [],
   "source": [
    "# Q3. How do you convert one data type to another in Python?"
   ]
  },
  {
   "cell_type": "code",
   "execution_count": 16,
   "id": "f9d62ff6-3bed-4ba4-9935-67c838ca4729",
   "metadata": {},
   "outputs": [
    {
     "name": "stdout",
     "output_type": "stream",
     "text": [
      "answer:- In python we can convert one data type to another data type by two main ways:- 1. Automatic Conversion: \n"
     ]
    }
   ],
   "source": [
    "print(\"answer:- In python we can convert one data type to another data type by two main ways:- 1. Automatic Conversion: \")"
   ]
  },
  {
   "cell_type": "code",
   "execution_count": 17,
   "id": "2ac03f81-caa7-432d-892a-00686ef7ae54",
   "metadata": {},
   "outputs": [
    {
     "name": "stdout",
     "output_type": "stream",
     "text": [
      "For example:-\n"
     ]
    }
   ],
   "source": [
    "print(\"For example:-\")"
   ]
  },
  {
   "cell_type": "code",
   "execution_count": 18,
   "id": "996cb9b3-8799-4fa9-b7ad-320af3107d3e",
   "metadata": {},
   "outputs": [],
   "source": [
    "a=5 # int\n",
    "b=5.6 #float\n",
    "result = a+b"
   ]
  },
  {
   "cell_type": "code",
   "execution_count": 19,
   "id": "ca8ca783-2268-4183-8f13-e09d49b64bff",
   "metadata": {},
   "outputs": [
    {
     "name": "stdout",
     "output_type": "stream",
     "text": [
      "10.6\n"
     ]
    }
   ],
   "source": [
    "print(result) #  it is converted automatically into float"
   ]
  },
  {
   "cell_type": "code",
   "execution_count": 20,
   "id": "7aaaf06f-8f77-4a64-826b-7fa49624eee5",
   "metadata": {},
   "outputs": [
    {
     "name": "stdout",
     "output_type": "stream",
     "text": [
      "2.Manual Conversion (Type Casting): we can also change types manually using specific functions like as:- int(), float(),str(),bool()\n",
      " for example:-\n"
     ]
    }
   ],
   "source": [
    "print(\"2.Manual Conversion (Type Casting): we can also change types manually using specific functions like as:- int(), float(),str(),bool()\\n for example:-\")"
   ]
  },
  {
   "cell_type": "code",
   "execution_count": 21,
   "id": "c9318ee3-8c3c-4ceb-a068-72ceb2232246",
   "metadata": {},
   "outputs": [],
   "source": [
    "a=int(6.7)"
   ]
  },
  {
   "cell_type": "code",
   "execution_count": 22,
   "id": "8f868245-7fb1-47b3-89a0-698ea637e9f9",
   "metadata": {},
   "outputs": [
    {
     "data": {
      "text/plain": [
       "int"
      ]
     },
     "execution_count": 22,
     "metadata": {},
     "output_type": "execute_result"
    }
   ],
   "source": [
    "type(a)"
   ]
  },
  {
   "cell_type": "code",
   "execution_count": 23,
   "id": "84e53fdd-bdee-4aed-8650-3896c7067c4c",
   "metadata": {},
   "outputs": [],
   "source": [
    "b=float(\"6.23\")"
   ]
  },
  {
   "cell_type": "code",
   "execution_count": 24,
   "id": "5d49780c-95a5-4eee-af6d-20e230be7e66",
   "metadata": {},
   "outputs": [
    {
     "data": {
      "text/plain": [
       "float"
      ]
     },
     "execution_count": 24,
     "metadata": {},
     "output_type": "execute_result"
    }
   ],
   "source": [
    "type(b)"
   ]
  },
  {
   "cell_type": "code",
   "execution_count": 25,
   "id": "0ee402b3-5b32-4d0e-8bfa-18430b432005",
   "metadata": {},
   "outputs": [],
   "source": [
    "c=str(100)"
   ]
  },
  {
   "cell_type": "code",
   "execution_count": 26,
   "id": "87b6dee0-29cd-48c0-a66d-d9ec3364dc77",
   "metadata": {},
   "outputs": [
    {
     "data": {
      "text/plain": [
       "str"
      ]
     },
     "execution_count": 26,
     "metadata": {},
     "output_type": "execute_result"
    }
   ],
   "source": [
    "type(c)"
   ]
  },
  {
   "cell_type": "code",
   "execution_count": 27,
   "id": "d2ee6170-1c67-4581-8d2a-1411481ff9bd",
   "metadata": {},
   "outputs": [],
   "source": [
    "d=bool(3)"
   ]
  },
  {
   "cell_type": "code",
   "execution_count": 28,
   "id": "9ed869f1-7388-4518-aefb-520434a027a3",
   "metadata": {},
   "outputs": [
    {
     "data": {
      "text/plain": [
       "bool"
      ]
     },
     "execution_count": 28,
     "metadata": {},
     "output_type": "execute_result"
    }
   ],
   "source": [
    "type(d)"
   ]
  },
  {
   "cell_type": "code",
   "execution_count": 29,
   "id": "ed195f18-09ff-44ca-9229-43be8af8223f",
   "metadata": {},
   "outputs": [],
   "source": [
    "# Q4. How do you write and execute a Python script from the command line?"
   ]
  },
  {
   "cell_type": "code",
   "execution_count": 32,
   "id": "124bd066-0852-4e34-87a3-f93e1a596eeb",
   "metadata": {},
   "outputs": [
    {
     "name": "stdout",
     "output_type": "stream",
     "text": [
      "Answer:-\n",
      "Step 1: Write Your Python Script: Create a text file with your Python code and save it with a .py extension. For example, myscript.py.\n",
      "Step 2: Open Command Line: Open Command Prompt (Windows) or Terminal (Mac/Linux).\n",
      "Step 3: Navigate to Script Directory: Use the cd command to move to the directory where your script is saved.\n",
      "Step 4: Run Your Script: Type python followed by the script's name and press Enter.\n",
      "Example:\n",
      "python myscript.py\n"
     ]
    }
   ],
   "source": [
    "print(\"Answer:-\\nStep 1: Write Your Python Script: Create a text file with your Python code and save it with a .py extension. For example, myscript.py.\\nStep 2: Open Command Line: Open Command Prompt (Windows) or Terminal (Mac/Linux).\\nStep 3: Navigate to Script Directory: Use the cd command to move to the directory where your script is saved.\\nStep 4: Run Your Script: Type python followed by the script's name and press Enter.\\nExample:\\npython myscript.py\")\n",
    "\n",
    "\n",
    "\n",
    "\n"
   ]
  },
  {
   "cell_type": "code",
   "execution_count": 33,
   "id": "29522528-4709-4276-89d8-058bfa19cb1c",
   "metadata": {},
   "outputs": [],
   "source": [
    "# Q5. Given a list my_list = [1, 2, 3, 4, 5], write the code to slice the list and obtain the sub-list [2, 3]."
   ]
  },
  {
   "cell_type": "code",
   "execution_count": 34,
   "id": "f8e92ce4-d889-48ec-8f29-f964702d5af7",
   "metadata": {},
   "outputs": [],
   "source": [
    "my_list=[1,2,3,4,5]"
   ]
  },
  {
   "cell_type": "code",
   "execution_count": 39,
   "id": "f563402b-0d06-447d-8fd8-b0768ad521ec",
   "metadata": {},
   "outputs": [],
   "source": [
    "sub_list = my_list[1:3]"
   ]
  },
  {
   "cell_type": "code",
   "execution_count": 40,
   "id": "3359a70e-d8b3-42e3-9023-8828e5628682",
   "metadata": {},
   "outputs": [
    {
     "data": {
      "text/plain": [
       "[2, 3]"
      ]
     },
     "execution_count": 40,
     "metadata": {},
     "output_type": "execute_result"
    }
   ],
   "source": [
    "sub_list"
   ]
  },
  {
   "cell_type": "code",
   "execution_count": 41,
   "id": "6c692531-f000-4ea4-ad90-fb9af4952398",
   "metadata": {},
   "outputs": [],
   "source": [
    "# Q6. What is a complex number in mathematics, and how is it represented in Python?"
   ]
  },
  {
   "cell_type": "code",
   "execution_count": 42,
   "id": "5f3d502a-ead0-4554-8a13-27a79c332550",
   "metadata": {},
   "outputs": [
    {
     "name": "stdout",
     "output_type": "stream",
     "text": [
      "Answer:- In mathematics complex is the combination of real number and imaginary number . In python it is repersented like this which is given below:-\n"
     ]
    }
   ],
   "source": [
    "print(\"Answer:- In mathematics complex is the combination of real number and imaginary number . In python it is repersented like this which is given below:-\")"
   ]
  },
  {
   "cell_type": "code",
   "execution_count": 43,
   "id": "05aa69e7-b318-41c6-8b27-f08f58c9a60c",
   "metadata": {},
   "outputs": [],
   "source": [
    "a=3+4j"
   ]
  },
  {
   "cell_type": "code",
   "execution_count": 44,
   "id": "e98619e9-e4c6-4648-bc03-416a832d6918",
   "metadata": {},
   "outputs": [
    {
     "data": {
      "text/plain": [
       "(3+4j)"
      ]
     },
     "execution_count": 44,
     "metadata": {},
     "output_type": "execute_result"
    }
   ],
   "source": [
    "a"
   ]
  },
  {
   "cell_type": "code",
   "execution_count": 45,
   "id": "1e6ab8c5-e621-4ca5-92ed-f1fee90c1c0e",
   "metadata": {},
   "outputs": [
    {
     "data": {
      "text/plain": [
       "complex"
      ]
     },
     "execution_count": 45,
     "metadata": {},
     "output_type": "execute_result"
    }
   ],
   "source": [
    "type(a)"
   ]
  },
  {
   "cell_type": "code",
   "execution_count": 46,
   "id": "36781465-fd0e-4132-b247-beda261eb3d2",
   "metadata": {},
   "outputs": [],
   "source": [
    "# Q7. What is the correct way to declare a variable named age and assign the value 25 to it?"
   ]
  },
  {
   "cell_type": "code",
   "execution_count": 48,
   "id": "0923a1ba-a3da-4ee7-b3ed-8955f5fb60dc",
   "metadata": {},
   "outputs": [
    {
     "name": "stdout",
     "output_type": "stream",
     "text": [
      "Answer:-\n",
      "The correct way to declare a variable named 'name' and assign the value 'richa' to it in Python is as follows:\n"
     ]
    }
   ],
   "source": [
    "print(\"Answer:-\\nThe correct way to declare a variable named 'name' and assign the value 'richa' to it in Python is as follows:\")"
   ]
  },
  {
   "cell_type": "code",
   "execution_count": 49,
   "id": "bcf422fe-f8ca-479a-9fe6-9240e47efc98",
   "metadata": {},
   "outputs": [],
   "source": [
    "name='richa'"
   ]
  },
  {
   "cell_type": "code",
   "execution_count": 50,
   "id": "0d0e3fe3-1791-4abb-8b62-d87df061d208",
   "metadata": {},
   "outputs": [
    {
     "data": {
      "text/plain": [
       "'richa'"
      ]
     },
     "execution_count": 50,
     "metadata": {},
     "output_type": "execute_result"
    }
   ],
   "source": [
    "name"
   ]
  },
  {
   "cell_type": "code",
   "execution_count": 51,
   "id": "52058967-7d63-43e2-8c80-4bbb99a4394c",
   "metadata": {},
   "outputs": [],
   "source": [
    "# Q8. Declare a variable named price and assign the value 9.99 to it. What data type does this variable\n",
    "# belong to?"
   ]
  },
  {
   "cell_type": "code",
   "execution_count": 52,
   "id": "a5939206-9853-4f2e-815c-762be778bb59",
   "metadata": {},
   "outputs": [],
   "source": [
    "price=9.99"
   ]
  },
  {
   "cell_type": "code",
   "execution_count": 53,
   "id": "7593f93e-48a3-4351-9b3e-8228a7b138ee",
   "metadata": {},
   "outputs": [
    {
     "data": {
      "text/plain": [
       "float"
      ]
     },
     "execution_count": 53,
     "metadata": {},
     "output_type": "execute_result"
    }
   ],
   "source": [
    "type(price)"
   ]
  },
  {
   "cell_type": "code",
   "execution_count": 54,
   "id": "30900845-d18d-4b38-a2ac-6ed0d2ccda69",
   "metadata": {},
   "outputs": [],
   "source": [
    "# Q9. Create a variable named name and assign your full name to it as a string. How would you print the\n",
    "# value of this variable?"
   ]
  },
  {
   "cell_type": "code",
   "execution_count": 55,
   "id": "8eac2586-fe97-438a-ba2e-7567fb8be610",
   "metadata": {},
   "outputs": [],
   "source": [
    "name='richa choudhary'"
   ]
  },
  {
   "cell_type": "code",
   "execution_count": 56,
   "id": "fa3d2185-4a22-4cde-bc31-360a54dfe0e0",
   "metadata": {},
   "outputs": [
    {
     "data": {
      "text/plain": [
       "'richa choudhary'"
      ]
     },
     "execution_count": 56,
     "metadata": {},
     "output_type": "execute_result"
    }
   ],
   "source": [
    "name"
   ]
  },
  {
   "cell_type": "code",
   "execution_count": 57,
   "id": "96bd7683-0147-4793-911d-0f73919921b5",
   "metadata": {},
   "outputs": [],
   "source": [
    "# Q10. Given the string \"Hello, World!\", extract the substring \"World\"."
   ]
  },
  {
   "cell_type": "code",
   "execution_count": 59,
   "id": "3f15a1a1-c50d-4d0f-b856-e46491a79291",
   "metadata": {},
   "outputs": [],
   "source": [
    "str=\"Hello, World!\"\n",
    "substring=str[7:12]"
   ]
  },
  {
   "cell_type": "code",
   "execution_count": 60,
   "id": "5526ae46-a9db-4a12-8325-f163ac9917ac",
   "metadata": {},
   "outputs": [
    {
     "data": {
      "text/plain": [
       "'World'"
      ]
     },
     "execution_count": 60,
     "metadata": {},
     "output_type": "execute_result"
    }
   ],
   "source": [
    "substring"
   ]
  },
  {
   "cell_type": "code",
   "execution_count": 61,
   "id": "de4f7b62-a409-4ada-b40e-5b68e9ff17b5",
   "metadata": {},
   "outputs": [],
   "source": [
    "# Q11. Create a variable named \"is_student\" and assign it a boolean value indicating whether you are\n",
    "# currently a student or not."
   ]
  },
  {
   "cell_type": "code",
   "execution_count": 62,
   "id": "ca1ee5af-da95-48c7-835a-27e370ea7264",
   "metadata": {},
   "outputs": [],
   "source": [
    "is_student = True # If you are currently a student"
   ]
  },
  {
   "cell_type": "code",
   "execution_count": null,
   "id": "20bb2971-6ba2-461c-a161-4a935e66422c",
   "metadata": {},
   "outputs": [],
   "source": [
    "is_student = False # If you are not currently "
   ]
  }
 ],
 "metadata": {
  "kernelspec": {
   "display_name": "Python 3 (ipykernel)",
   "language": "python",
   "name": "python3"
  },
  "language_info": {
   "codemirror_mode": {
    "name": "ipython",
    "version": 3
   },
   "file_extension": ".py",
   "mimetype": "text/x-python",
   "name": "python",
   "nbconvert_exporter": "python",
   "pygments_lexer": "ipython3",
   "version": "3.10.8"
  }
 },
 "nbformat": 4,
 "nbformat_minor": 5
}
